{
 "cells": [
  {
   "cell_type": "code",
   "execution_count": 10,
   "id": "e210f2b8",
   "metadata": {},
   "outputs": [],
   "source": [
    "import random\n",
    "import PIL\n",
    "from PIL import Image"
   ]
  },
  {
   "cell_type": "code",
   "execution_count": 11,
   "id": "f207d970",
   "metadata": {},
   "outputs": [],
   "source": [
    "i=0\n",
    "emotions = ['angry', 'disgust', 'fear', 'happy', 'neutral', 'sad', 'surprise']"
   ]
  },
  {
   "cell_type": "code",
   "execution_count": 12,
   "id": "c979663f",
   "metadata": {},
   "outputs": [
    {
     "name": "stdout",
     "output_type": "stream",
     "text": [
      "neutral\n",
      "../FrontEndDashboard/static/images/emoAll/neutral.png\n",
      "../FrontEndDashboard/static/images/emo3/emo1.png\n",
      "fear\n",
      "../FrontEndDashboard/static/images/emoAll/fear.png\n",
      "../FrontEndDashboard/static/images/emo3/emo2.png\n",
      "surprise\n",
      "../FrontEndDashboard/static/images/emoAll/surprise.png\n",
      "../FrontEndDashboard/static/images/emo3/emo3.png\n"
     ]
    }
   ],
   "source": [
    "while i<3:\n",
    "    #use top 3 results df to pull emotions type from top 3 instad of random choice for final file\n",
    "    emoran = random.choice(emotions)\n",
    "    print(emoran)\n",
    "    path = '../FrontEndDashboard/static/images/emoAll/'+emoran+'.png'  \n",
    "    print(path)\n",
    "    img = Image.open(path)\n",
    "    i+=1\n",
    "    exportPath = '../FrontEndDashboard/static/images/emo3/emo'+str(i)+'.png'\n",
    "    print(exportPath)\n",
    "    img.save(exportPath)"
   ]
  },
  {
   "cell_type": "code",
   "execution_count": null,
   "id": "74db418b",
   "metadata": {},
   "outputs": [],
   "source": []
  }
 ],
 "metadata": {
  "kernelspec": {
   "display_name": "mlenv",
   "language": "python",
   "name": "mlenv"
  },
  "language_info": {
   "codemirror_mode": {
    "name": "ipython",
    "version": 3
   },
   "file_extension": ".py",
   "mimetype": "text/x-python",
   "name": "python",
   "nbconvert_exporter": "python",
   "pygments_lexer": "ipython3",
   "version": "3.7.10"
  }
 },
 "nbformat": 4,
 "nbformat_minor": 5
}
