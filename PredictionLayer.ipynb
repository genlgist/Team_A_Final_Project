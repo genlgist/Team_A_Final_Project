{
  "nbformat": 4,
  "nbformat_minor": 0,
  "metadata": {
    "colab": {
      "name": "PredictionLayer.ipynb",
      "provenance": [],
      "collapsed_sections": []
    },
    "kernelspec": {
      "name": "python3",
      "display_name": "Python 3"
    },
    "language_info": {
      "name": "python"
    }
  },
  "cells": [
    {
      "cell_type": "code",
      "metadata": {
        "id": "JGd1_p1y9Agd"
      },
      "source": [
        "#import packages\n",
        "import numpy as np\n",
        "import pandas as pd\n",
        "import os\n",
        "import matplotlib\n",
        "import matplotlib.pyplot as plt\n",
        "import tensorflow as tf\n",
        "from tensorflow import keras\n",
        "from tensorflow.keras.models import load_model\n",
        "import PIL\n",
        "from PIL import Image\n",
        "import warnings"
      ],
      "execution_count": null,
      "outputs": []
    },
    {
      "cell_type": "code",
      "metadata": {
        "id": "Wp8e1S_L9MX6"
      },
      "source": [
        "#initializations\n",
        "warnings.simplefilter(\"ignore\")\n",
        "label_names = ['angry', 'disgust', 'fear', 'happy', 'neutral', 'sad', 'surprise']\n",
        "i=0"
      ],
      "execution_count": 28,
      "outputs": []
    },
    {
      "cell_type": "code",
      "metadata": {
        "colab": {
          "base_uri": "https://localhost:8080/",
          "height": 338
        },
        "id": "KaLHzEmx9UPq",
        "outputId": "861b0912-1e56-48ca-f25e-bacb5f92b462"
      },
      "source": [
        "#import image\n",
        "img = Image.open('/content/selected_img.jpeg')  #point to js resource folder holding this file. hold trained model in the resoure folder as well\n",
        "plt.figure(figsize = (5,5))\n",
        "plt.imshow(img)"
      ],
      "execution_count": null,
      "outputs": [
        {
          "output_type": "execute_result",
          "data": {
            "text/plain": [
              "<matplotlib.image.AxesImage at 0x7fbf7dd73d10>"
            ]
          },
          "metadata": {},
          "execution_count": 11
        },
        {
          "output_type": "display_data",
          "data": {
            "image/png": "[encoded data removed]",
            "text/plain": [
              "<Figure size 360x360 with 1 Axes>"
            ]
          },
          "metadata": {
            "needs_background": "light"
          }
        }
      ]
    },
    {
      "cell_type": "code",
      "metadata": {
        "colab": {
          "base_uri": "https://localhost:8080/"
        },
        "id": "qTFCo5Hs-UKE",
        "outputId": "c46d753c-7831-4fa6-9cad-1ec78592e6ff"
      },
      "source": [
        "# load the saved model\n",
        "model = load_model(\"/content/final_model.h5\")  # put in resource folder with selected image\n",
        "print('Tensorflow keras Model loaded successfully')"
      ],
      "execution_count": null,
      "outputs": [
        {
          "output_type": "stream",
          "name": "stdout",
          "text": [
            "Tensorflow keras Model loaded successfully\n"
          ]
        }
      ]
    },
    {
      "cell_type": "code",
      "metadata": {
        "colab": {
          "base_uri": "https://localhost:8080/"
        },
        "id": "gC_v1xw--q7H",
        "outputId": "ce430ab7-39db-487c-fe6d-d27c099ab798"
      },
      "source": [
        "img = img.resize((48, 48), Image.ANTIALIAS) #resize the image using PIL's builtin function\n",
        "img = np.array(img)\n",
        "if len(img.shape) == 2:  #if the user is uploading a black and white image\n",
        "    img=np.stack((img,)*3, axis=-1)\n",
        "img = np.expand_dims(img,axis=0) # the size of the first\n",
        "print(img.shape)\n",
        "img = img/255.0"
      ],
      "execution_count": null,
      "outputs": [
        {
          "output_type": "stream",
          "name": "stdout",
          "text": [
            "(1, 48, 48, 3)\n"
          ]
        }
      ]
    },
    {
      "cell_type": "code",
      "metadata": {
        "colab": {
          "base_uri": "https://localhost:8080/"
        },
        "id": "XuBdObub-wbX",
        "outputId": "d92a4b2c-5873-4969-a4fb-a4df4aaa599c"
      },
      "source": [
        "# process image through prediction model\n",
        "pred = model.predict(img)\n",
        "\n",
        "# softmax function rescales each element/dimension to lie between [0,1] and add up to 1.0\n",
        "score = tf.nn.softmax(pred[0]) \n",
        "print(score)"
      ],
      "execution_count": null,
      "outputs": [
        {
          "output_type": "stream",
          "name": "stdout",
          "text": [
            "tf.Tensor(\n",
            "[0.11497572 0.11497249 0.1149953  0.30876982 0.11591969 0.11499941\n",
            " 0.11536762], shape=(7,), dtype=float32)\n"
          ]
        }
      ]
    },
    {
      "cell_type": "code",
      "metadata": {
        "colab": {
          "base_uri": "https://localhost:8080/"
        },
        "id": "SPTouVt-UVgz",
        "outputId": "e16e0ce4-5aae-4978-a6d3-72ca83aff3da"
      },
      "source": [
        "# print prediction label and confidence level\n",
        "print(\n",
        "    \"This expression is most likely {} with a {:.2f} share of distribution.\"\n",
        "    .format(label_names[np.argmax(score)], 100 * np.max(score))\n",
        ")\n",
        "print(\n",
        "    \"This expression is least likely {} with a {:.2f} share of distribution.\"\n",
        "    .format(label_names[np.argmin(score)], 100 * np.min(score))\n",
        ")\n",
        "# because we are using softmax this is not the standard statistical confidence level"
      ],
      "execution_count": null,
      "outputs": [
        {
          "output_type": "stream",
          "name": "stdout",
          "text": [
            "This expression is most likely happy with a 30.88 share of distribution.\n",
            "This expression is least likely disgust with a 11.50 share of distribution.\n"
          ]
        }
      ]
    },
    {
      "cell_type": "code",
      "metadata": {
        "colab": {
          "base_uri": "https://localhost:8080/",
          "height": 265
        },
        "id": "atb3NH01UHna",
        "outputId": "25c361c2-f3f5-46a3-c447-6c27b26ed79c"
      },
      "source": [
        "# put together a pd dataframe with args and scores\n",
        "results_df = pd.DataFrame({'Expression': label_names})\n",
        "\n",
        "scores = np.array(score)\n",
        "scores_s = pd.Series(scores)\n",
        "results_df['Distribution'] = scores_s\n",
        "\n",
        "results_df"
      ],
      "execution_count": null,
      "outputs": [
        {
          "output_type": "execute_result",
          "data": {
            "text/html": [
              "<div>\n",
              "<style scoped>\n",
              "    .dataframe tbody tr th:only-of-type {\n",
              "        vertical-align: middle;\n",
              "    }\n",
              "\n",
              "    .dataframe tbody tr th {\n",
              "        vertical-align: top;\n",
              "    }\n",
              "\n",
              "    .dataframe thead th {\n",
              "        text-align: right;\n",
              "    }\n",
              "</style>\n",
              "<table border=\"1\" class=\"dataframe\">\n",
              "  <thead>\n",
              "    <tr style=\"text-align: right;\">\n",
              "      <th></th>\n",
              "      <th>Expression</th>\n",
              "      <th>Distribution</th>\n",
              "    </tr>\n",
              "  </thead>\n",
              "  <tbody>\n",
              "    <tr>\n",
              "      <th>0</th>\n",
              "      <td>angry</td>\n",
              "      <td>0.114976</td>\n",
              "    </tr>\n",
              "    <tr>\n",
              "      <th>1</th>\n",
              "      <td>disgust</td>\n",
              "      <td>0.114972</td>\n",
              "    </tr>\n",
              "    <tr>\n",
              "      <th>2</th>\n",
              "      <td>fear</td>\n",
              "      <td>0.114995</td>\n",
              "    </tr>\n",
              "    <tr>\n",
              "      <th>3</th>\n",
              "      <td>happy</td>\n",
              "      <td>0.308770</td>\n",
              "    </tr>\n",
              "    <tr>\n",
              "      <th>4</th>\n",
              "      <td>neutral</td>\n",
              "      <td>0.115920</td>\n",
              "    </tr>\n",
              "    <tr>\n",
              "      <th>5</th>\n",
              "      <td>sad</td>\n",
              "      <td>0.114999</td>\n",
              "    </tr>\n",
              "    <tr>\n",
              "      <th>6</th>\n",
              "      <td>surprise</td>\n",
              "      <td>0.115368</td>\n",
              "    </tr>\n",
              "  </tbody>\n",
              "</table>\n",
              "</div>"
            ],
            "text/plain": [
              "  Expression  Distribution\n",
              "0      angry      0.114976\n",
              "1    disgust      0.114972\n",
              "2       fear      0.114995\n",
              "3      happy      0.308770\n",
              "4    neutral      0.115920\n",
              "5        sad      0.114999\n",
              "6   surprise      0.115368"
            ]
          },
          "metadata": {},
          "execution_count": 16
        }
      ]
    },
    {
      "cell_type": "code",
      "metadata": {
        "colab": {
          "base_uri": "https://localhost:8080/",
          "height": 265
        },
        "id": "vcWPczAvBcKQ",
        "outputId": "9c4782a8-ac9c-4a18-88cd-d9859dee1f8d"
      },
      "source": [
        "# sort by scores from high to low\n",
        "results_df = results_df.sort_values(by='Distribution', ascending=False)\n",
        "results_df\n",
        "# this code is not needed if only passing top 3.  use code below to pass top 3"
      ],
      "execution_count": null,
      "outputs": [
        {
          "output_type": "execute_result",
          "data": {
            "text/html": [
              "<div>\n",
              "<style scoped>\n",
              "    .dataframe tbody tr th:only-of-type {\n",
              "        vertical-align: middle;\n",
              "    }\n",
              "\n",
              "    .dataframe tbody tr th {\n",
              "        vertical-align: top;\n",
              "    }\n",
              "\n",
              "    .dataframe thead th {\n",
              "        text-align: right;\n",
              "    }\n",
              "</style>\n",
              "<table border=\"1\" class=\"dataframe\">\n",
              "  <thead>\n",
              "    <tr style=\"text-align: right;\">\n",
              "      <th></th>\n",
              "      <th>Expression</th>\n",
              "      <th>Distribution</th>\n",
              "    </tr>\n",
              "  </thead>\n",
              "  <tbody>\n",
              "    <tr>\n",
              "      <th>3</th>\n",
              "      <td>happy</td>\n",
              "      <td>0.308770</td>\n",
              "    </tr>\n",
              "    <tr>\n",
              "      <th>4</th>\n",
              "      <td>neutral</td>\n",
              "      <td>0.115920</td>\n",
              "    </tr>\n",
              "    <tr>\n",
              "      <th>6</th>\n",
              "      <td>surprise</td>\n",
              "      <td>0.115368</td>\n",
              "    </tr>\n",
              "    <tr>\n",
              "      <th>5</th>\n",
              "      <td>sad</td>\n",
              "      <td>0.114999</td>\n",
              "    </tr>\n",
              "    <tr>\n",
              "      <th>2</th>\n",
              "      <td>fear</td>\n",
              "      <td>0.114995</td>\n",
              "    </tr>\n",
              "    <tr>\n",
              "      <th>0</th>\n",
              "      <td>angry</td>\n",
              "      <td>0.114976</td>\n",
              "    </tr>\n",
              "    <tr>\n",
              "      <th>1</th>\n",
              "      <td>disgust</td>\n",
              "      <td>0.114972</td>\n",
              "    </tr>\n",
              "  </tbody>\n",
              "</table>\n",
              "</div>"
            ],
            "text/plain": [
              "  Expression  Distribution\n",
              "3      happy      0.308770\n",
              "4    neutral      0.115920\n",
              "6   surprise      0.115368\n",
              "5        sad      0.114999\n",
              "2       fear      0.114995\n",
              "0      angry      0.114976\n",
              "1    disgust      0.114972"
            ]
          },
          "metadata": {},
          "execution_count": 17
        }
      ]
    },
    {
      "cell_type": "code",
      "metadata": {
        "colab": {
          "base_uri": "https://localhost:8080/",
          "height": 142
        },
        "id": "p91b0EEzWi2E",
        "outputId": "ab13aa47-f854-483a-b338-40bd6cfdaa56"
      },
      "source": [
        "# select top 3 most likely expressions with images and confidence to return to the dashboard\n",
        "top3_df = results_df.nlargest(3,'Distribution')\n",
        "top3_sum = top3_df.Distribution.sum()\n",
        "top3_df['PredictScore'] = top3_df['Distribution']/top3_sum\n",
        "top3_df = top3_df.drop('Distribution', 1)\n",
        "top3_df = top3_df.rename(columns={\"PredictScore\": \"EmoScore\"})\n",
        "top3_df['EmoScore'] = top3_df['EmoScore'].map(lambda n: '{:.0%}'.format(n))\n",
        "top3_df"
      ],
      "execution_count": null,
      "outputs": [
        {
          "output_type": "execute_result",
          "data": {
            "text/html": [
              "<div>\n",
              "<style scoped>\n",
              "    .dataframe tbody tr th:only-of-type {\n",
              "        vertical-align: middle;\n",
              "    }\n",
              "\n",
              "    .dataframe tbody tr th {\n",
              "        vertical-align: top;\n",
              "    }\n",
              "\n",
              "    .dataframe thead th {\n",
              "        text-align: right;\n",
              "    }\n",
              "</style>\n",
              "<table border=\"1\" class=\"dataframe\">\n",
              "  <thead>\n",
              "    <tr style=\"text-align: right;\">\n",
              "      <th></th>\n",
              "      <th>Expression</th>\n",
              "      <th>EmoScore</th>\n",
              "    </tr>\n",
              "  </thead>\n",
              "  <tbody>\n",
              "    <tr>\n",
              "      <th>3</th>\n",
              "      <td>happy</td>\n",
              "      <td>57%</td>\n",
              "    </tr>\n",
              "    <tr>\n",
              "      <th>4</th>\n",
              "      <td>neutral</td>\n",
              "      <td>21%</td>\n",
              "    </tr>\n",
              "    <tr>\n",
              "      <th>6</th>\n",
              "      <td>surprise</td>\n",
              "      <td>21%</td>\n",
              "    </tr>\n",
              "  </tbody>\n",
              "</table>\n",
              "</div>"
            ],
            "text/plain": [
              "  Expression EmoScore\n",
              "3      happy      57%\n",
              "4    neutral      21%\n",
              "6   surprise      21%"
            ]
          },
          "metadata": {},
          "execution_count": 25
        }
      ]
    },
    {
      "cell_type": "code",
      "metadata": {
        "id": "bDKeamPcB2FP"
      },
      "source": [
        "# convert pandas into json file.  pull into javascript using D3?\n",
        "top3_df.to_json('./export.json',orient='records')"
      ],
      "execution_count": null,
      "outputs": []
    },
    {
      "cell_type": "code",
      "metadata": {
        "id": "u65QOpHeC2Xv"
      },
      "source": [
        "# save top 3 emojis to javascript image folder 'emo3'\n",
        "while i<3:\n",
        "    #use top 3 results df to pull emotions type from top 3 instad of random choice for final file\n",
        "    emotion = top3_df.iloc[i]['Expression']\n",
        "    print(emotion)\n",
        "    path = '/content/'+emotion+'.png'  #filepath to use for local version... '../FrontEndDashboard/static/images/emoAll/'\n",
        "    print(path)\n",
        "    img = Image.open(path)\n",
        "    i+=1\n",
        "    exportPath = '/emo'+str(i)+'.png'  #filepath to use for local version... '../FrontEndDashboard/static/images/emo3/emo'+str(i)+'.png'\n",
        "    print(exportPath)\n",
        "    img.save(exportPath)"
      ],
      "execution_count": 30,
      "outputs": []
    },
    {
      "cell_type": "code",
      "metadata": {
        "colab": {
          "base_uri": "https://localhost:8080/"
        },
        "id": "1tRkH8xnrxWT",
        "outputId": "6b62beb4-72e4-4e79-d5f3-a98e7f691c3b"
      },
      "source": [
        "print(tf.__version__) # tensorflow version"
      ],
      "execution_count": null,
      "outputs": [
        {
          "output_type": "stream",
          "name": "stdout",
          "text": [
            "2.6.0\n"
          ]
        }
      ]
    },
    {
      "cell_type": "code",
      "metadata": {
        "colab": {
          "base_uri": "https://localhost:8080/"
        },
        "id": "CJRasPmQw_Ny",
        "outputId": "371a9071-7e2d-4258-a5df-13aa263d764b"
      },
      "source": [
        "print(keras.__version__) # keras version"
      ],
      "execution_count": null,
      "outputs": [
        {
          "output_type": "stream",
          "name": "stdout",
          "text": [
            "2.6.0\n"
          ]
        }
      ]
    },
    {
      "cell_type": "code",
      "metadata": {
        "colab": {
          "base_uri": "https://localhost:8080/"
        },
        "id": "cc8o1oS6xMpF",
        "outputId": "f48b004e-b99b-4710-cf7d-b0032890ea41"
      },
      "source": [
        "print(np.__version__) # numpy version"
      ],
      "execution_count": null,
      "outputs": [
        {
          "output_type": "stream",
          "name": "stdout",
          "text": [
            "1.19.5\n"
          ]
        }
      ]
    },
    {
      "cell_type": "code",
      "metadata": {
        "colab": {
          "base_uri": "https://localhost:8080/"
        },
        "id": "xh2lf3xzxWY7",
        "outputId": "6682bd0c-4453-40f8-b8ad-b2f192fcd10f"
      },
      "source": [
        "print(pd.__version__) # pandas version"
      ],
      "execution_count": null,
      "outputs": [
        {
          "output_type": "stream",
          "name": "stdout",
          "text": [
            "1.1.5\n"
          ]
        }
      ]
    },
    {
      "cell_type": "code",
      "metadata": {
        "colab": {
          "base_uri": "https://localhost:8080/"
        },
        "id": "bUdnQ35Kxdz-",
        "outputId": "7033e212-2bc2-4cf6-9252-2d2237a70052"
      },
      "source": [
        "print(matplotlib.__version__) # matplotlib version"
      ],
      "execution_count": null,
      "outputs": [
        {
          "output_type": "stream",
          "name": "stdout",
          "text": [
            "3.2.2\n"
          ]
        }
      ]
    },
    {
      "cell_type": "code",
      "metadata": {
        "colab": {
          "base_uri": "https://localhost:8080/"
        },
        "id": "hTiFRtWQxx39",
        "outputId": "17adeb5c-6ccb-484f-d64c-19b8c9c5a498"
      },
      "source": [
        "print(PIL.__version__) # PIL version"
      ],
      "execution_count": null,
      "outputs": [
        {
          "output_type": "stream",
          "name": "stdout",
          "text": [
            "7.1.2\n"
          ]
        }
      ]
    }
  ]
}