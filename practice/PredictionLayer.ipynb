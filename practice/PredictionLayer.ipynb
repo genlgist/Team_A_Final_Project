{
 "cells": [
  {
   "cell_type": "code",
   "execution_count": 1,
   "id": "54f0e23b",
   "metadata": {},
   "outputs": [],
   "source": [
    "#import packages\n",
    "import numpy as np\n",
    "import pandas as pd\n",
    "import os\n",
    "import matplotlib\n",
    "import matplotlib.pyplot as plt\n",
    "import tensorflow as tf\n",
    "from tensorflow import keras\n",
    "from tensorflow.keras.models import load_model\n",
    "import PIL\n",
    "from PIL import Image\n",
    "import warnings"
   ]
  },
  {
   "cell_type": "code",
   "execution_count": 2,
   "id": "495ab0df",
   "metadata": {},
   "outputs": [],
   "source": [
    "#initializations\n",
    "warnings.simplefilter(\"ignore\")\n",
    "label_names = ['angry', 'disgust', 'fear', 'happy', 'neutral', 'sad', 'surprise']"
   ]
  },
  {
   "cell_type": "code",
   "execution_count": 3,
   "id": "02bd85e0",
   "metadata": {},
   "outputs": [
    {
     "data": {
      "text/plain": [
       "<matplotlib.image.AxesImage at 0x2189310c688>"
      ]
     },
     "execution_count": 3,
     "metadata": {},
     "output_type": "execute_result"
    },
    {
     "data": {
      "image/png": "[encoded data removed]",
      "text/plain": [
       "<Figure size 360x360 with 1 Axes>"
      ]
     },
     "metadata": {
      "needs_background": "light"
     },
     "output_type": "display_data"
    }
   ],
   "source": [
    "#import image\n",
    "img = Image.open('test_img.jpeg')  #point to js resource folder holding this file. hold trained model in the resoure folder as well\n",
    "plt.figure(figsize = (5,5))\n",
    "plt.imshow(img)"
   ]
  },
  {
   "cell_type": "code",
   "execution_count": 5,
   "id": "85b15d93",
   "metadata": {},
   "outputs": [
    {
     "name": "stdout",
     "output_type": "stream",
     "text": [
      "Tensorflow keras Model loaded successfully\n"
     ]
    }
   ],
   "source": [
    "# load the saved model\n",
    "model = load_model(\"models/final_model.h5\")  # put in resource folder with selected image\n",
    "print('Tensorflow keras Model loaded successfully')"
   ]
  },
  {
   "cell_type": "code",
   "execution_count": 6,
   "id": "72b81fe2",
   "metadata": {},
   "outputs": [
    {
     "name": "stdout",
     "output_type": "stream",
     "text": [
      "(1, 48, 48, 3)\n"
     ]
    }
   ],
   "source": [
    "img = img.resize((48, 48), Image.ANTIALIAS) #resize the image using PIL's builtin function\n",
    "img = np.array(img)\n",
    "if len(img.shape) == 2:  #if the user is uploading a black and white image\n",
    "    img=np.stack((img,)*3, axis=-1)\n",
    "img = np.expand_dims(img,axis=0) # the size of the first\n",
    "print(img.shape)\n",
    "img = img/255.0"
   ]
  },
  {
   "cell_type": "code",
   "execution_count": 7,
   "id": "19a1cfbd",
   "metadata": {},
   "outputs": [
    {
     "name": "stdout",
     "output_type": "stream",
     "text": [
      "tf.Tensor(\n",
      "[0.11497572 0.11497249 0.1149953  0.30876982 0.11591969 0.11499941\n",
      " 0.11536762], shape=(7,), dtype=float32)\n"
     ]
    }
   ],
   "source": [
    "# process image through prediction model\n",
    "pred = model.predict(img)\n",
    "\n",
    "# softmax function rescales each element/dimension to lie between [0,1] and add up to 1.0\n",
    "score = tf.nn.softmax(pred[0]) \n",
    "print(score)"
   ]
  },
  {
   "cell_type": "code",
   "execution_count": 8,
   "id": "a14b0d57",
   "metadata": {},
   "outputs": [
    {
     "name": "stdout",
     "output_type": "stream",
     "text": [
      "This expression is most likely happy with a 30.88 share of distribution.\n",
      "This expression is least likely disgust with a 11.50 share of distribution.\n"
     ]
    }
   ],
   "source": [
    "# print prediction label and confidence level\n",
    "print(\n",
    "    \"This expression is most likely {} with a {:.2f} share of distribution.\"\n",
    "    .format(label_names[np.argmax(score)], 100 * np.max(score))\n",
    ")\n",
    "print(\n",
    "    \"This expression is least likely {} with a {:.2f} share of distribution.\"\n",
    "    .format(label_names[np.argmin(score)], 100 * np.min(score))\n",
    ")\n",
    "# because we are using softmax this is not the standard statistical confidence level"
   ]
  },
  {
   "cell_type": "code",
   "execution_count": 9,
   "id": "646a3c03",
   "metadata": {},
   "outputs": [
    {
     "data": {
      "text/html": [
       "<div>\n",
       "<style scoped>\n",
       "    .dataframe tbody tr th:only-of-type {\n",
       "        vertical-align: middle;\n",
       "    }\n",
       "\n",
       "    .dataframe tbody tr th {\n",
       "        vertical-align: top;\n",
       "    }\n",
       "\n",
       "    .dataframe thead th {\n",
       "        text-align: right;\n",
       "    }\n",
       "</style>\n",
       "<table border=\"1\" class=\"dataframe\">\n",
       "  <thead>\n",
       "    <tr style=\"text-align: right;\">\n",
       "      <th></th>\n",
       "      <th>Expression</th>\n",
       "      <th>Distribution</th>\n",
       "    </tr>\n",
       "  </thead>\n",
       "  <tbody>\n",
       "    <tr>\n",
       "      <th>0</th>\n",
       "      <td>angry</td>\n",
       "      <td>0.114976</td>\n",
       "    </tr>\n",
       "    <tr>\n",
       "      <th>1</th>\n",
       "      <td>disgust</td>\n",
       "      <td>0.114972</td>\n",
       "    </tr>\n",
       "    <tr>\n",
       "      <th>2</th>\n",
       "      <td>fear</td>\n",
       "      <td>0.114995</td>\n",
       "    </tr>\n",
       "    <tr>\n",
       "      <th>3</th>\n",
       "      <td>happy</td>\n",
       "      <td>0.308770</td>\n",
       "    </tr>\n",
       "    <tr>\n",
       "      <th>4</th>\n",
       "      <td>neutral</td>\n",
       "      <td>0.115920</td>\n",
       "    </tr>\n",
       "    <tr>\n",
       "      <th>5</th>\n",
       "      <td>sad</td>\n",
       "      <td>0.114999</td>\n",
       "    </tr>\n",
       "    <tr>\n",
       "      <th>6</th>\n",
       "      <td>surprise</td>\n",
       "      <td>0.115368</td>\n",
       "    </tr>\n",
       "  </tbody>\n",
       "</table>\n",
       "</div>"
      ],
      "text/plain": [
       "  Expression  Distribution\n",
       "0      angry      0.114976\n",
       "1    disgust      0.114972\n",
       "2       fear      0.114995\n",
       "3      happy      0.308770\n",
       "4    neutral      0.115920\n",
       "5        sad      0.114999\n",
       "6   surprise      0.115368"
      ]
     },
     "execution_count": 9,
     "metadata": {},
     "output_type": "execute_result"
    }
   ],
   "source": [
    "# put together a pd dataframe with args and scores\n",
    "results_df = pd.DataFrame({'Expression': label_names})\n",
    "\n",
    "scores = np.array(score)\n",
    "scores_s = pd.Series(scores)\n",
    "results_df['Distribution'] = scores_s\n",
    "\n",
    "results_df"
   ]
  },
  {
   "cell_type": "code",
   "execution_count": 10,
   "id": "8abdb835",
   "metadata": {},
   "outputs": [
    {
     "data": {
      "text/html": [
       "<div>\n",
       "<style scoped>\n",
       "    .dataframe tbody tr th:only-of-type {\n",
       "        vertical-align: middle;\n",
       "    }\n",
       "\n",
       "    .dataframe tbody tr th {\n",
       "        vertical-align: top;\n",
       "    }\n",
       "\n",
       "    .dataframe thead th {\n",
       "        text-align: right;\n",
       "    }\n",
       "</style>\n",
       "<table border=\"1\" class=\"dataframe\">\n",
       "  <thead>\n",
       "    <tr style=\"text-align: right;\">\n",
       "      <th></th>\n",
       "      <th>Expression</th>\n",
       "      <th>Distribution</th>\n",
       "    </tr>\n",
       "  </thead>\n",
       "  <tbody>\n",
       "    <tr>\n",
       "      <th>3</th>\n",
       "      <td>happy</td>\n",
       "      <td>0.308770</td>\n",
       "    </tr>\n",
       "    <tr>\n",
       "      <th>4</th>\n",
       "      <td>neutral</td>\n",
       "      <td>0.115920</td>\n",
       "    </tr>\n",
       "    <tr>\n",
       "      <th>6</th>\n",
       "      <td>surprise</td>\n",
       "      <td>0.115368</td>\n",
       "    </tr>\n",
       "    <tr>\n",
       "      <th>5</th>\n",
       "      <td>sad</td>\n",
       "      <td>0.114999</td>\n",
       "    </tr>\n",
       "    <tr>\n",
       "      <th>2</th>\n",
       "      <td>fear</td>\n",
       "      <td>0.114995</td>\n",
       "    </tr>\n",
       "    <tr>\n",
       "      <th>0</th>\n",
       "      <td>angry</td>\n",
       "      <td>0.114976</td>\n",
       "    </tr>\n",
       "    <tr>\n",
       "      <th>1</th>\n",
       "      <td>disgust</td>\n",
       "      <td>0.114972</td>\n",
       "    </tr>\n",
       "  </tbody>\n",
       "</table>\n",
       "</div>"
      ],
      "text/plain": [
       "  Expression  Distribution\n",
       "3      happy      0.308770\n",
       "4    neutral      0.115920\n",
       "6   surprise      0.115368\n",
       "5        sad      0.114999\n",
       "2       fear      0.114995\n",
       "0      angry      0.114976\n",
       "1    disgust      0.114972"
      ]
     },
     "execution_count": 10,
     "metadata": {},
     "output_type": "execute_result"
    }
   ],
   "source": [
    "# sort by scores from high to low\n",
    "results_df = results_df.sort_values(by='Distribution', ascending=False)\n",
    "results_df\n",
    "# this code is not needed if only passing top 3.  use code below to pass top 3"
   ]
  },
  {
   "cell_type": "code",
   "execution_count": 11,
   "id": "6773635e",
   "metadata": {},
   "outputs": [
    {
     "data": {
      "text/html": [
       "<div>\n",
       "<style scoped>\n",
       "    .dataframe tbody tr th:only-of-type {\n",
       "        vertical-align: middle;\n",
       "    }\n",
       "\n",
       "    .dataframe tbody tr th {\n",
       "        vertical-align: top;\n",
       "    }\n",
       "\n",
       "    .dataframe thead th {\n",
       "        text-align: right;\n",
       "    }\n",
       "</style>\n",
       "<table border=\"1\" class=\"dataframe\">\n",
       "  <thead>\n",
       "    <tr style=\"text-align: right;\">\n",
       "      <th></th>\n",
       "      <th>Expression</th>\n",
       "      <th>Distribution</th>\n",
       "      <th>PredictScore</th>\n",
       "    </tr>\n",
       "  </thead>\n",
       "  <tbody>\n",
       "    <tr>\n",
       "      <th>3</th>\n",
       "      <td>happy</td>\n",
       "      <td>0.308770</td>\n",
       "      <td>0.571736</td>\n",
       "    </tr>\n",
       "    <tr>\n",
       "      <th>4</th>\n",
       "      <td>neutral</td>\n",
       "      <td>0.115920</td>\n",
       "      <td>0.214643</td>\n",
       "    </tr>\n",
       "    <tr>\n",
       "      <th>6</th>\n",
       "      <td>surprise</td>\n",
       "      <td>0.115368</td>\n",
       "      <td>0.213621</td>\n",
       "    </tr>\n",
       "  </tbody>\n",
       "</table>\n",
       "</div>"
      ],
      "text/plain": [
       "  Expression  Distribution  PredictScore\n",
       "3      happy      0.308770      0.571736\n",
       "4    neutral      0.115920      0.214643\n",
       "6   surprise      0.115368      0.213621"
      ]
     },
     "execution_count": 11,
     "metadata": {},
     "output_type": "execute_result"
    }
   ],
   "source": [
    "# select top 3 most likely expressions with images and confidence to return to the dashboard\n",
    "top3_df = results_df.nlargest(3,'Distribution')\n",
    "top3_sum = top3_df.Distribution.sum()\n",
    "top3_df['PredictScore'] = top3_df['Distribution']/top3_sum\n",
    "top3_df"
   ]
  },
  {
   "cell_type": "code",
   "execution_count": 12,
   "id": "91bc885e",
   "metadata": {},
   "outputs": [
    {
     "name": "stdout",
     "output_type": "stream",
     "text": [
      "2.6.0\n"
     ]
    }
   ],
   "source": [
    "print(tf.__version__) # tensorflow version"
   ]
  },
  {
   "cell_type": "code",
   "execution_count": 13,
   "id": "47adc2c6",
   "metadata": {},
   "outputs": [
    {
     "name": "stdout",
     "output_type": "stream",
     "text": [
      "2.6.0\n"
     ]
    }
   ],
   "source": [
    "print(keras.__version__) # keras version"
   ]
  },
  {
   "cell_type": "code",
   "execution_count": 14,
   "id": "a54aea00",
   "metadata": {},
   "outputs": [
    {
     "name": "stdout",
     "output_type": "stream",
     "text": [
      "1.19.5\n"
     ]
    }
   ],
   "source": [
    "print(np.__version__) # numpy version"
   ]
  },
  {
   "cell_type": "code",
   "execution_count": 15,
   "id": "bbeb2283",
   "metadata": {},
   "outputs": [
    {
     "name": "stdout",
     "output_type": "stream",
     "text": [
      "1.2.4\n"
     ]
    }
   ],
   "source": [
    "print(pd.__version__) # pandas version"
   ]
  },
  {
   "cell_type": "code",
   "execution_count": 16,
   "id": "69a538ec",
   "metadata": {},
   "outputs": [
    {
     "name": "stdout",
     "output_type": "stream",
     "text": [
      "3.3.4\n"
     ]
    }
   ],
   "source": [
    "print(matplotlib.__version__) # matplotlib version"
   ]
  },
  {
   "cell_type": "code",
   "execution_count": 17,
   "id": "30d7897e",
   "metadata": {},
   "outputs": [
    {
     "name": "stdout",
     "output_type": "stream",
     "text": [
      "8.2.0\n"
     ]
    }
   ],
   "source": [
    "print(PIL.__version__) # PIL version"
   ]
  },
  {
   "cell_type": "code",
   "execution_count": null,
   "id": "a88e597b",
   "metadata": {},
   "outputs": [],
   "source": []
  }
 ],
 "metadata": {
  "kernelspec": {
   "display_name": "mlenv",
   "language": "python",
   "name": "mlenv"
  },
  "language_info": {
   "codemirror_mode": {
    "name": "ipython",
    "version": 3
   },
   "file_extension": ".py",
   "mimetype": "text/x-python",
   "name": "python",
   "nbconvert_exporter": "python",
   "pygments_lexer": "ipython3",
   "version": "3.7.10"
  }
 },
 "nbformat": 4,
 "nbformat_minor": 5
}
