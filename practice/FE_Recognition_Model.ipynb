{
 "cells": [
  {
   "cell_type": "code",
   "execution_count": 3,
   "id": "3fa7c7d9",
   "metadata": {},
   "outputs": [],
   "source": [
    "# import the deliverables\n",
    "import matplotlib.pyplot as plt\n",
    "import numpy as np\n",
    "import os\n",
    "import PIL\n",
    "import tensorflow as tf\n",
    "\n",
    "from tensorflow import keras\n",
    "from tensorflow.keras import layers\n",
    "from tensorflow.keras.models import Sequential\n",
    "from keras.layers import Dense, Conv2D , MaxPool2D , Flatten , Dropout\n",
    "from tensorflow.keras.preprocessing.image import ImageDataGenerator"
   ]
  },
  {
   "cell_type": "code",
   "execution_count": 21,
   "id": "43e8edb7",
   "metadata": {},
   "outputs": [],
   "source": [
    "# creating funcation to read data \n",
    "import cv2\n",
    "\n",
    "labels = ['angry','disgust','fear','happy','neutral','sad','surprise']\n",
    "img_size = 48\n",
    "def get_data(data_dir):\n",
    "    data = [] \n",
    "    for label in labels: \n",
    "        path = os.path.join(data_dir, label)\n",
    "        class_num = labels.index(label)\n",
    "        for img in os.listdir(path):\n",
    "            try:\n",
    "                img_arr = cv2.imread(os.path.join(path, img))[...,::-1] #convert BGR to RGB format\n",
    "                resized_arr = cv2.resize(img_arr, (img_size, img_size)) # Reshaping images to preferred size\n",
    "                data.append([resized_arr, class_num])\n",
    "            except Exception as e:\n",
    "                print(e)\n",
    "    return np.array(data)"
   ]
  },
  {
   "cell_type": "code",
   "execution_count": 22,
   "id": "e2703343",
   "metadata": {},
   "outputs": [
    {
     "name": "stderr",
     "output_type": "stream",
     "text": [
      "C:\\Users\\hp\\AppData\\Roaming\\Python\\Python37\\site-packages\\ipykernel_launcher.py:18: VisibleDeprecationWarning: Creating an ndarray from ragged nested sequences (which is a list-or-tuple of lists-or-tuples-or ndarrays with different lengths or shapes) is deprecated. If you meant to do this, you must specify 'dtype=object' when creating the ndarray\n"
     ]
    }
   ],
   "source": [
    "# fetching data \n",
    "train = get_data('data/all_expressions/train')\n",
    "val = get_data('data/all_expressions/test')"
   ]
  },
  {
   "cell_type": "code",
   "execution_count": 23,
   "id": "df0e1013",
   "metadata": {},
   "outputs": [
    {
     "data": {
      "text/plain": [
       "Text(0.5, 1.0, 'angry')"
      ]
     },
     "execution_count": 23,
     "metadata": {},
     "output_type": "execute_result"
    },
    {
     "data": {
      "image/png": "[encoded data removed]",
      "text/plain": [
       "<Figure size 360x360 with 1 Axes>"
      ]
     },
     "metadata": {
      "needs_background": "light"
     },
     "output_type": "display_data"
    }
   ],
   "source": [
    "# visualize a random image from angry class\n",
    "plt.figure(figsize = (5,5))\n",
    "plt.imshow(train[1][0])\n",
    "plt.title(labels[train[0][1]])"
   ]
  },
  {
   "cell_type": "code",
   "execution_count": 24,
   "id": "9d2ebc0d",
   "metadata": {},
   "outputs": [
    {
     "data": {
      "text/plain": [
       "Text(0.5, 1.0, 'surprise')"
      ]
     },
     "execution_count": 24,
     "metadata": {},
     "output_type": "execute_result"
    },
    {
     "data": {
      "image/png": "[encoded data removed]",
      "text/plain": [
       "<Figure size 360x360 with 1 Axes>"
      ]
     },
     "metadata": {
      "needs_background": "light"
     },
     "output_type": "display_data"
    }
   ],
   "source": [
    "# visualize a random image from surprise class\n",
    "plt.figure(figsize = (5,5))\n",
    "plt.imshow(train[-1][0])\n",
    "plt.title(labels[train[-1][1]])"
   ]
  },
  {
   "cell_type": "code",
   "execution_count": 25,
   "id": "feb1ba29",
   "metadata": {},
   "outputs": [],
   "source": [
    "#creating the training and testing variables\n",
    "\n",
    "x_train = []\n",
    "y_train = []\n",
    "x_val = []\n",
    "y_val = []\n",
    "\n",
    "for feature, label in train:\n",
    "  x_train.append(feature)\n",
    "  y_train.append(label)\n",
    "\n",
    "for feature, label in val:\n",
    "  x_val.append(feature)\n",
    "  y_val.append(label)\n",
    "\n",
    "# Normalize the data\n",
    "x_train = np.array(x_train)/255\n",
    "x_val = np.array(x_val)/255\n",
    "\n",
    "x_train.reshape(-1, img_size, img_size, 1)\n",
    "y_train = np.array(y_train)\n",
    "\n",
    "x_val.reshape(-1, img_size, img_size, 1)\n",
    "y_val = np.array(y_val)"
   ]
  },
  {
   "cell_type": "code",
   "execution_count": 30,
   "id": "9ce58328",
   "metadata": {},
   "outputs": [],
   "source": [
    "model = tf.keras.Sequential([\n",
    "\n",
    "        # input layer\n",
    "        tf.keras.layers.Conv2D(32,(3,3),activation = 'relu',input_shape=(48,48,3)),\n",
    "        tf.keras.layers.Conv2D(64,(3,3), padding='same', activation='relu' ),\n",
    "        tf.keras.layers.BatchNormalization(),\n",
    "        tf.keras.layers.MaxPooling2D(2,2),\n",
    "        tf.keras.layers.Dropout(0.25),\n",
    "\n",
    "        # 1st hidden dense layer\n",
    "        tf.keras.layers.Conv2D(128,(5,5), padding='same', activation='relu'),\n",
    "        tf.keras.layers.BatchNormalization(),\n",
    "        tf.keras.layers.MaxPooling2D(2,2),\n",
    "        tf.keras.layers.Dropout(0.25),\n",
    "    \n",
    "        # 2nd hidden dense layer\n",
    "        tf.keras.layers.Conv2D(512,(3,3), padding='same', activation='relu',kernel_regularizer=tf.keras.regularizers.l2(0.01)),\n",
    "        tf.keras.layers.BatchNormalization(),\n",
    "        tf.keras.layers.MaxPooling2D(2,2),\n",
    "        tf.keras.layers.Dropout(0.25),\n",
    "    \n",
    "        # 3rd hidden dense layer\n",
    "        tf.keras.layers.Conv2D(512,(3,3), padding='same', activation='relu',kernel_regularizer=tf.keras.regularizers.l2(0.01)),\n",
    "        tf.keras.layers.BatchNormalization(),\n",
    "        tf.keras.layers.MaxPooling2D(2,2),\n",
    "        tf.keras.layers.Dropout(0.25),\n",
    "    \n",
    "        # Flatten layer\n",
    "        tf.keras.layers.Flatten(),\n",
    "        tf.keras.layers.Dense(256, activation='relu'),\n",
    "        tf.keras.layers.BatchNormalization(),\n",
    "        tf.keras.layers.Dropout(0.25),\n",
    "    \n",
    "        tf.keras.layers.Dense(512, activation='relu'),\n",
    "        tf.keras.layers.BatchNormalization(),\n",
    "        tf.keras.layers.Dropout(0.25),\n",
    "    \n",
    "        # output layer\n",
    "        tf.keras.layers.Dense(7, activation='softmax')\n",
    "    ])"
   ]
  },
  {
   "cell_type": "code",
   "execution_count": 31,
   "id": "66ce027a",
   "metadata": {},
   "outputs": [
    {
     "name": "stdout",
     "output_type": "stream",
     "text": [
      "Model: \"sequential_1\"\n",
      "_________________________________________________________________\n",
      "Layer (type)                 Output Shape              Param #   \n",
      "=================================================================\n",
      "conv2d_5 (Conv2D)            (None, 46, 46, 32)        896       \n",
      "_________________________________________________________________\n",
      "conv2d_6 (Conv2D)            (None, 46, 46, 64)        18496     \n",
      "_________________________________________________________________\n",
      "batch_normalization_6 (Batch (None, 46, 46, 64)        256       \n",
      "_________________________________________________________________\n",
      "max_pooling2d_4 (MaxPooling2 (None, 23, 23, 64)        0         \n",
      "_________________________________________________________________\n",
      "dropout_6 (Dropout)          (None, 23, 23, 64)        0         \n",
      "_________________________________________________________________\n",
      "conv2d_7 (Conv2D)            (None, 23, 23, 128)       204928    \n",
      "_________________________________________________________________\n",
      "batch_normalization_7 (Batch (None, 23, 23, 128)       512       \n",
      "_________________________________________________________________\n",
      "max_pooling2d_5 (MaxPooling2 (None, 11, 11, 128)       0         \n",
      "_________________________________________________________________\n",
      "dropout_7 (Dropout)          (None, 11, 11, 128)       0         \n",
      "_________________________________________________________________\n",
      "conv2d_8 (Conv2D)            (None, 11, 11, 512)       590336    \n",
      "_________________________________________________________________\n",
      "batch_normalization_8 (Batch (None, 11, 11, 512)       2048      \n",
      "_________________________________________________________________\n",
      "max_pooling2d_6 (MaxPooling2 (None, 5, 5, 512)         0         \n",
      "_________________________________________________________________\n",
      "dropout_8 (Dropout)          (None, 5, 5, 512)         0         \n",
      "_________________________________________________________________\n",
      "conv2d_9 (Conv2D)            (None, 5, 5, 512)         2359808   \n",
      "_________________________________________________________________\n",
      "batch_normalization_9 (Batch (None, 5, 5, 512)         2048      \n",
      "_________________________________________________________________\n",
      "max_pooling2d_7 (MaxPooling2 (None, 2, 2, 512)         0         \n",
      "_________________________________________________________________\n",
      "dropout_9 (Dropout)          (None, 2, 2, 512)         0         \n",
      "_________________________________________________________________\n",
      "flatten_1 (Flatten)          (None, 2048)              0         \n",
      "_________________________________________________________________\n",
      "dense_3 (Dense)              (None, 256)               524544    \n",
      "_________________________________________________________________\n",
      "batch_normalization_10 (Batc (None, 256)               1024      \n",
      "_________________________________________________________________\n",
      "dropout_10 (Dropout)         (None, 256)               0         \n",
      "_________________________________________________________________\n",
      "dense_4 (Dense)              (None, 512)               131584    \n",
      "_________________________________________________________________\n",
      "batch_normalization_11 (Batc (None, 512)               2048      \n",
      "_________________________________________________________________\n",
      "dropout_11 (Dropout)         (None, 512)               0         \n",
      "_________________________________________________________________\n",
      "dense_5 (Dense)              (None, 7)                 3591      \n",
      "=================================================================\n",
      "Total params: 3,842,119\n",
      "Trainable params: 3,838,151\n",
      "Non-trainable params: 3,968\n",
      "_________________________________________________________________\n"
     ]
    }
   ],
   "source": [
    "#summary of model\n",
    "model.summary()"
   ]
  },
  {
   "cell_type": "code",
   "execution_count": 32,
   "id": "1012836d",
   "metadata": {},
   "outputs": [],
   "source": [
    "# compile the model\n",
    "model.compile(optimizer='adam',\n",
    "              loss=tf.keras.losses.SparseCategoricalCrossentropy(from_logits=True),\n",
    "              metrics=['accuracy'])"
   ]
  },
  {
   "cell_type": "code",
   "execution_count": 33,
   "id": "4aefae03",
   "metadata": {},
   "outputs": [
    {
     "name": "stdout",
     "output_type": "stream",
     "text": [
      "Epoch 1/50\n"
     ]
    },
    {
     "name": "stderr",
     "output_type": "stream",
     "text": [
      "C:\\Users\\hp\\anaconda3\\envs\\mlenv\\lib\\site-packages\\keras\\backend.py:4907: UserWarning: \"`sparse_categorical_crossentropy` received `from_logits=True`, but the `output` argument was produced by a sigmoid or softmax activation and thus does not represent logits. Was this intended?\"\n",
      "  '\"`sparse_categorical_crossentropy` received `from_logits=True`, but '\n"
     ]
    },
    {
     "name": "stdout",
     "output_type": "stream",
     "text": [
      "898/898 [==============================] - 648s 718ms/step - loss: 4.1206 - accuracy: 0.2635 - val_loss: 2.6838 - val_accuracy: 0.2825\n",
      "Epoch 2/50\n",
      "898/898 [==============================] - 694s 772ms/step - loss: 2.6312 - accuracy: 0.3863 - val_loss: 2.6419 - val_accuracy: 0.4163\n",
      "Epoch 3/50\n",
      "898/898 [==============================] - 714s 795ms/step - loss: 2.5416 - accuracy: 0.4519 - val_loss: 2.4468 - val_accuracy: 0.4565\n",
      "Epoch 4/50\n",
      "898/898 [==============================] - 746s 831ms/step - loss: 2.4249 - accuracy: 0.4800 - val_loss: 2.8219 - val_accuracy: 0.4175\n",
      "Epoch 5/50\n",
      "898/898 [==============================] - 725s 808ms/step - loss: 2.3456 - accuracy: 0.4939 - val_loss: 2.6778 - val_accuracy: 0.4152\n",
      "Epoch 6/50\n",
      "898/898 [==============================] - 732s 815ms/step - loss: 2.3241 - accuracy: 0.5057 - val_loss: 2.3659 - val_accuracy: 0.4879\n",
      "Epoch 7/50\n",
      "898/898 [==============================] - 735s 818ms/step - loss: 2.2604 - accuracy: 0.5150 - val_loss: 2.2066 - val_accuracy: 0.5279\n",
      "Epoch 8/50\n",
      "898/898 [==============================] - 727s 810ms/step - loss: 2.0894 - accuracy: 0.5262 - val_loss: 2.4660 - val_accuracy: 0.4664\n",
      "Epoch 9/50\n",
      "898/898 [==============================] - 740s 824ms/step - loss: 2.0997 - accuracy: 0.5292 - val_loss: 2.1981 - val_accuracy: 0.5011\n",
      "Epoch 10/50\n",
      "898/898 [==============================] - 651s 724ms/step - loss: 2.1035 - accuracy: 0.5390 - val_loss: 2.2423 - val_accuracy: 0.5149\n",
      "Epoch 11/50\n",
      "898/898 [==============================] - 676s 753ms/step - loss: 2.0882 - accuracy: 0.5459 - val_loss: 2.0098 - val_accuracy: 0.5599\n",
      "Epoch 12/50\n",
      "898/898 [==============================] - 622s 693ms/step - loss: 1.8948 - accuracy: 0.5541 - val_loss: 1.9615 - val_accuracy: 0.5343\n",
      "Epoch 13/50\n",
      "898/898 [==============================] - 604s 672ms/step - loss: 1.8882 - accuracy: 0.5646 - val_loss: 1.7696 - val_accuracy: 0.5711\n",
      "Epoch 14/50\n",
      "898/898 [==============================] - 667s 743ms/step - loss: 1.9413 - accuracy: 0.5600 - val_loss: 2.8200 - val_accuracy: 0.5040\n",
      "Epoch 15/50\n",
      "898/898 [==============================] - 666s 742ms/step - loss: 1.8201 - accuracy: 0.5684 - val_loss: 1.7330 - val_accuracy: 0.5698\n",
      "Epoch 16/50\n",
      "898/898 [==============================] - 673s 750ms/step - loss: 1.7849 - accuracy: 0.5690 - val_loss: 1.6716 - val_accuracy: 0.5733\n",
      "Epoch 17/50\n",
      "898/898 [==============================] - 700s 779ms/step - loss: 1.7015 - accuracy: 0.5746 - val_loss: 1.6740 - val_accuracy: 0.5814\n",
      "Epoch 18/50\n",
      "898/898 [==============================] - 709s 790ms/step - loss: 1.6449 - accuracy: 0.5815 - val_loss: 1.6270 - val_accuracy: 0.5688\n",
      "Epoch 19/50\n",
      "898/898 [==============================] - 717s 798ms/step - loss: 1.6474 - accuracy: 0.5824 - val_loss: 1.6425 - val_accuracy: 0.5823\n",
      "Epoch 20/50\n",
      "898/898 [==============================] - 735s 819ms/step - loss: 1.6469 - accuracy: 0.5884 - val_loss: 1.6870 - val_accuracy: 0.5673\n",
      "Epoch 21/50\n",
      "898/898 [==============================] - 661s 736ms/step - loss: 1.6243 - accuracy: 0.5896 - val_loss: 1.6669 - val_accuracy: 0.5745\n",
      "Epoch 22/50\n",
      "898/898 [==============================] - 641s 714ms/step - loss: 1.6622 - accuracy: 0.5966 - val_loss: 1.7291 - val_accuracy: 0.5768\n",
      "Epoch 23/50\n",
      "898/898 [==============================] - 631s 703ms/step - loss: 1.5694 - accuracy: 0.5946 - val_loss: 1.5569 - val_accuracy: 0.5933\n",
      "Epoch 24/50\n",
      "898/898 [==============================] - 618s 688ms/step - loss: 1.5875 - accuracy: 0.6071 - val_loss: 1.6449 - val_accuracy: 0.5762\n",
      "Epoch 25/50\n",
      "898/898 [==============================] - 613s 683ms/step - loss: 1.5815 - accuracy: 0.6051 - val_loss: 1.9043 - val_accuracy: 0.5502\n",
      "Epoch 26/50\n",
      "898/898 [==============================] - 606s 674ms/step - loss: 1.5626 - accuracy: 0.6089 - val_loss: 1.5723 - val_accuracy: 0.5741\n",
      "Epoch 27/50\n",
      "898/898 [==============================] - 624s 695ms/step - loss: 1.5126 - accuracy: 0.6109 - val_loss: 1.6114 - val_accuracy: 0.5763\n",
      "Epoch 28/50\n",
      "898/898 [==============================] - 609s 678ms/step - loss: 1.5017 - accuracy: 0.6134 - val_loss: 1.5809 - val_accuracy: 0.5886\n",
      "Epoch 29/50\n",
      "898/898 [==============================] - 620s 690ms/step - loss: 1.5081 - accuracy: 0.6189 - val_loss: 1.6568 - val_accuracy: 0.5681\n",
      "Epoch 30/50\n",
      "898/898 [==============================] - 670s 746ms/step - loss: 1.4908 - accuracy: 0.6243 - val_loss: 1.5759 - val_accuracy: 0.5818\n",
      "Epoch 31/50\n",
      "898/898 [==============================] - 706s 787ms/step - loss: 1.4965 - accuracy: 0.6265 - val_loss: 1.7426 - val_accuracy: 0.5711\n",
      "Epoch 32/50\n",
      "898/898 [==============================] - 773s 861ms/step - loss: 1.5635 - accuracy: 0.6227 - val_loss: 1.8744 - val_accuracy: 0.5819\n",
      "Epoch 33/50\n",
      "898/898 [==============================] - 691s 770ms/step - loss: 1.5491 - accuracy: 0.6279 - val_loss: 1.6736 - val_accuracy: 0.5984\n",
      "Epoch 34/50\n",
      "898/898 [==============================] - 673s 749ms/step - loss: 1.5397 - accuracy: 0.6302 - val_loss: 1.6160 - val_accuracy: 0.5801\n",
      "Epoch 35/50\n",
      "898/898 [==============================] - 672s 748ms/step - loss: 1.4858 - accuracy: 0.6306 - val_loss: 1.5627 - val_accuracy: 0.5968\n",
      "Epoch 36/50\n",
      "898/898 [==============================] - 674s 751ms/step - loss: 1.5035 - accuracy: 0.6323 - val_loss: 1.4695 - val_accuracy: 0.6078\n",
      "Epoch 37/50\n",
      "898/898 [==============================] - 674s 750ms/step - loss: 1.3898 - accuracy: 0.6405 - val_loss: 1.4911 - val_accuracy: 0.5932\n",
      "Epoch 38/50\n",
      "898/898 [==============================] - 674s 751ms/step - loss: 1.3938 - accuracy: 0.6391 - val_loss: 1.5860 - val_accuracy: 0.5800\n",
      "Epoch 39/50\n",
      "898/898 [==============================] - 672s 748ms/step - loss: 1.5513 - accuracy: 0.6296 - val_loss: 1.5386 - val_accuracy: 0.5999\n",
      "Epoch 40/50\n",
      "898/898 [==============================] - 675s 752ms/step - loss: 1.3952 - accuracy: 0.6474 - val_loss: 1.5051 - val_accuracy: 0.5883\n",
      "Epoch 41/50\n",
      "898/898 [==============================] - 674s 750ms/step - loss: 1.3729 - accuracy: 0.6541 - val_loss: 1.5433 - val_accuracy: 0.5868\n",
      "Epoch 42/50\n",
      "898/898 [==============================] - 678s 755ms/step - loss: 1.4006 - accuracy: 0.6504 - val_loss: 1.5367 - val_accuracy: 0.5893\n",
      "Epoch 43/50\n",
      "898/898 [==============================] - 673s 750ms/step - loss: 1.3801 - accuracy: 0.6504 - val_loss: 1.4941 - val_accuracy: 0.6063\n",
      "Epoch 44/50\n",
      "898/898 [==============================] - 674s 751ms/step - loss: 1.3373 - accuracy: 0.6589 - val_loss: 1.5177 - val_accuracy: 0.6021\n",
      "Epoch 45/50\n",
      "898/898 [==============================] - 673s 749ms/step - loss: 1.3282 - accuracy: 0.6589 - val_loss: 1.5110 - val_accuracy: 0.6024\n",
      "Epoch 46/50\n",
      "898/898 [==============================] - 682s 759ms/step - loss: 1.3763 - accuracy: 0.6583 - val_loss: 1.5274 - val_accuracy: 0.6046\n",
      "Epoch 47/50\n",
      "898/898 [==============================] - 672s 748ms/step - loss: 1.3370 - accuracy: 0.6630 - val_loss: 1.4882 - val_accuracy: 0.6067\n",
      "Epoch 48/50\n",
      "898/898 [==============================] - 672s 748ms/step - loss: 1.3172 - accuracy: 0.6623 - val_loss: 1.5069 - val_accuracy: 0.6071\n",
      "Epoch 49/50\n",
      "898/898 [==============================] - 672s 749ms/step - loss: 1.3193 - accuracy: 0.6677 - val_loss: 1.9736 - val_accuracy: 0.5848\n",
      "Epoch 50/50\n",
      "898/898 [==============================] - 673s 749ms/step - loss: 1.3144 - accuracy: 0.6694 - val_loss: 1.9640 - val_accuracy: 0.5942\n"
     ]
    }
   ],
   "source": [
    "# train the model\n",
    "history = model.fit(x_train,y_train,epochs = 50 , validation_data = (x_val, y_val))"
   ]
  },
  {
   "cell_type": "code",
   "execution_count": 34,
   "id": "c2ab582e",
   "metadata": {},
   "outputs": [],
   "source": [
    "model.save(\"FE_model.h5\")"
   ]
  },
  {
   "cell_type": "code",
   "execution_count": 36,
   "id": "b3144bce",
   "metadata": {},
   "outputs": [],
   "source": [
    "#running model again\n",
    "model2 = keras.models.load_model(\"FE_model.h5\")"
   ]
  },
  {
   "cell_type": "code",
   "execution_count": 37,
   "id": "eee9cdbc",
   "metadata": {},
   "outputs": [
    {
     "name": "stdout",
     "output_type": "stream",
     "text": [
      "Epoch 1/15\n",
      "898/898 [==============================] - 771s 855ms/step - loss: 1.2989 - accuracy: 0.6697 - val_loss: 1.4713 - val_accuracy: 0.6010\n",
      "Epoch 2/15\n",
      "898/898 [==============================] - 744s 828ms/step - loss: 1.2979 - accuracy: 0.6708 - val_loss: 1.5833 - val_accuracy: 0.5847\n",
      "Epoch 3/15\n",
      "898/898 [==============================] - 744s 829ms/step - loss: 1.4339 - accuracy: 0.6653 - val_loss: 2.6040 - val_accuracy: 0.5634\n",
      "Epoch 4/15\n",
      "898/898 [==============================] - 730s 812ms/step - loss: 1.6273 - accuracy: 0.6597 - val_loss: 1.6269 - val_accuracy: 0.6020\n",
      "Epoch 5/15\n",
      "898/898 [==============================] - 747s 831ms/step - loss: 1.3902 - accuracy: 0.6728 - val_loss: 2.0239 - val_accuracy: 0.5741\n",
      "Epoch 6/15\n",
      "898/898 [==============================] - 653s 727ms/step - loss: 1.3791 - accuracy: 0.6777 - val_loss: 1.8381 - val_accuracy: 0.5985\n",
      "Epoch 7/15\n",
      "898/898 [==============================] - 648s 722ms/step - loss: 1.2516 - accuracy: 0.6826 - val_loss: 1.5325 - val_accuracy: 0.6092\n",
      "Epoch 8/15\n",
      "898/898 [==============================] - 734s 817ms/step - loss: 1.2544 - accuracy: 0.6806 - val_loss: 1.4869 - val_accuracy: 0.6067\n",
      "Epoch 9/15\n",
      "898/898 [==============================] - 770s 857ms/step - loss: 1.4477 - accuracy: 0.6737 - val_loss: 1.5082 - val_accuracy: 0.5970\n",
      "Epoch 10/15\n",
      "898/898 [==============================] - 754s 839ms/step - loss: 1.2352 - accuracy: 0.6860 - val_loss: 1.4581 - val_accuracy: 0.6095\n",
      "Epoch 11/15\n",
      "898/898 [==============================] - 773s 861ms/step - loss: 1.3015 - accuracy: 0.6822 - val_loss: 4.1668 - val_accuracy: 0.5793\n",
      "Epoch 12/15\n",
      "898/898 [==============================] - 804s 895ms/step - loss: 1.2799 - accuracy: 0.6881 - val_loss: 1.5496 - val_accuracy: 0.6070\n",
      "Epoch 13/15\n",
      "898/898 [==============================] - 804s 895ms/step - loss: 1.2363 - accuracy: 0.6925 - val_loss: 1.5301 - val_accuracy: 0.6070\n",
      "Epoch 14/15\n",
      "898/898 [==============================] - 807s 899ms/step - loss: 1.2313 - accuracy: 0.6919 - val_loss: 1.8118 - val_accuracy: 0.6184\n",
      "Epoch 15/15\n",
      "898/898 [==============================] - 806s 898ms/step - loss: 1.2806 - accuracy: 0.6889 - val_loss: 1.6382 - val_accuracy: 0.5979\n"
     ]
    },
    {
     "data": {
      "text/plain": [
       "<keras.callbacks.History at 0x1d17bea5e48>"
      ]
     },
     "execution_count": 37,
     "metadata": {},
     "output_type": "execute_result"
    }
   ],
   "source": [
    "model2.fit(x_train,y_train,epochs = 15 , validation_data = (x_val, y_val))"
   ]
  },
  {
   "cell_type": "code",
   "execution_count": 38,
   "id": "3c2126b6",
   "metadata": {},
   "outputs": [],
   "source": [
    "model2.save(\"FE_model2.h5\")"
   ]
  },
  {
   "cell_type": "code",
   "execution_count": 43,
   "id": "cfc8bee0",
   "metadata": {},
   "outputs": [],
   "source": [
    "#running model again\n",
    "final_model = keras.models.load_model(\"FE_model2.h5\")"
   ]
  },
  {
   "cell_type": "code",
   "execution_count": 44,
   "id": "89d974da",
   "metadata": {},
   "outputs": [
    {
     "name": "stdout",
     "output_type": "stream",
     "text": [
      "Epoch 1/35\n",
      "898/898 [==============================] - 808s 898ms/step - loss: 1.2849 - accuracy: 0.6926 - val_loss: 1.5377 - val_accuracy: 0.5892\n",
      "Epoch 2/35\n",
      "898/898 [==============================] - 560s 623ms/step - loss: 1.2183 - accuracy: 0.6971 - val_loss: 1.4878 - val_accuracy: 0.6151\n",
      "Epoch 3/35\n",
      "898/898 [==============================] - 563s 627ms/step - loss: 1.2956 - accuracy: 0.6896 - val_loss: 1.5739 - val_accuracy: 0.6088\n",
      "Epoch 4/35\n",
      "898/898 [==============================] - 587s 654ms/step - loss: 1.2503 - accuracy: 0.6993 - val_loss: 1.7566 - val_accuracy: 0.6071\n",
      "Epoch 5/35\n",
      "898/898 [==============================] - 604s 672ms/step - loss: 1.1984 - accuracy: 0.7000 - val_loss: 1.6804 - val_accuracy: 0.6085\n",
      "Epoch 6/35\n",
      "898/898 [==============================] - 594s 662ms/step - loss: 1.2043 - accuracy: 0.7040 - val_loss: 1.5896 - val_accuracy: 0.6023\n",
      "Epoch 7/35\n",
      "898/898 [==============================] - 564s 628ms/step - loss: 1.3273 - accuracy: 0.6949 - val_loss: 1.6609 - val_accuracy: 0.5867\n",
      "Epoch 8/35\n",
      "898/898 [==============================] - 569s 633ms/step - loss: 1.2727 - accuracy: 0.7049 - val_loss: 3.3162 - val_accuracy: 0.5754\n",
      "Epoch 9/35\n",
      "898/898 [==============================] - 559s 623ms/step - loss: 1.2436 - accuracy: 0.7019 - val_loss: 1.6903 - val_accuracy: 0.6021\n",
      "Epoch 10/35\n",
      "898/898 [==============================] - 560s 623ms/step - loss: 1.1838 - accuracy: 0.7076 - val_loss: 1.7867 - val_accuracy: 0.5876\n",
      "Epoch 11/35\n",
      "898/898 [==============================] - 561s 625ms/step - loss: 1.1757 - accuracy: 0.7100 - val_loss: 1.4584 - val_accuracy: 0.6113\n",
      "Epoch 12/35\n",
      "898/898 [==============================] - 556s 619ms/step - loss: 1.2346 - accuracy: 0.7034 - val_loss: 1.8857 - val_accuracy: 0.5748\n",
      "Epoch 13/35\n",
      "898/898 [==============================] - 554s 617ms/step - loss: 1.1959 - accuracy: 0.7116 - val_loss: 1.8212 - val_accuracy: 0.5896\n",
      "Epoch 14/35\n",
      "898/898 [==============================] - 555s 618ms/step - loss: 1.1842 - accuracy: 0.7150 - val_loss: 1.5359 - val_accuracy: 0.6030\n",
      "Epoch 15/35\n",
      "898/898 [==============================] - 556s 619ms/step - loss: 1.1684 - accuracy: 0.7155 - val_loss: 3.3942 - val_accuracy: 0.5376\n",
      "Epoch 16/35\n",
      "898/898 [==============================] - 548s 611ms/step - loss: 1.1503 - accuracy: 0.7156 - val_loss: 1.4451 - val_accuracy: 0.6121\n",
      "Epoch 17/35\n",
      "898/898 [==============================] - 554s 617ms/step - loss: 1.1570 - accuracy: 0.7152 - val_loss: 1.4598 - val_accuracy: 0.6078\n",
      "Epoch 18/35\n",
      "898/898 [==============================] - 558s 622ms/step - loss: 1.1574 - accuracy: 0.7202 - val_loss: 1.4776 - val_accuracy: 0.6069\n",
      "Epoch 19/35\n",
      "898/898 [==============================] - 557s 620ms/step - loss: 1.1596 - accuracy: 0.7174 - val_loss: 1.4886 - val_accuracy: 0.6038\n",
      "Epoch 20/35\n",
      "898/898 [==============================] - 556s 619ms/step - loss: 1.1546 - accuracy: 0.7236 - val_loss: 1.5086 - val_accuracy: 0.6109\n",
      "Epoch 21/35\n",
      "898/898 [==============================] - 555s 618ms/step - loss: 1.1421 - accuracy: 0.7162 - val_loss: 1.4500 - val_accuracy: 0.6101\n",
      "Epoch 22/35\n",
      "898/898 [==============================] - 556s 620ms/step - loss: 1.1308 - accuracy: 0.7194 - val_loss: 1.4693 - val_accuracy: 0.5986\n",
      "Epoch 23/35\n",
      "898/898 [==============================] - 552s 615ms/step - loss: 1.1283 - accuracy: 0.7203 - val_loss: 1.7273 - val_accuracy: 0.5999\n",
      "Epoch 24/35\n",
      "898/898 [==============================] - 558s 622ms/step - loss: 1.1286 - accuracy: 0.7253 - val_loss: 1.8864 - val_accuracy: 0.5917\n",
      "Epoch 25/35\n",
      "898/898 [==============================] - 563s 628ms/step - loss: 1.1163 - accuracy: 0.7262 - val_loss: 1.5730 - val_accuracy: 0.5789\n",
      "Epoch 26/35\n",
      "898/898 [==============================] - 556s 619ms/step - loss: 1.1174 - accuracy: 0.7284 - val_loss: 1.4589 - val_accuracy: 0.5989\n",
      "Epoch 27/35\n",
      "898/898 [==============================] - 552s 615ms/step - loss: 1.1379 - accuracy: 0.7265 - val_loss: 1.5378 - val_accuracy: 0.6018\n",
      "Epoch 28/35\n",
      "898/898 [==============================] - 556s 619ms/step - loss: 1.1613 - accuracy: 0.7232 - val_loss: 1.5400 - val_accuracy: 0.6025\n",
      "Epoch 29/35\n",
      "898/898 [==============================] - 555s 618ms/step - loss: 1.0977 - accuracy: 0.7282 - val_loss: 2.4564 - val_accuracy: 0.5971\n",
      "Epoch 30/35\n",
      "898/898 [==============================] - 553s 616ms/step - loss: 1.0903 - accuracy: 0.7278 - val_loss: 1.5633 - val_accuracy: 0.5918\n",
      "Epoch 31/35\n",
      "898/898 [==============================] - 554s 617ms/step - loss: 1.1483 - accuracy: 0.7301 - val_loss: 1.5033 - val_accuracy: 0.6151\n",
      "Epoch 32/35\n",
      "898/898 [==============================] - 547s 610ms/step - loss: 1.3081 - accuracy: 0.7190 - val_loss: 2.6341 - val_accuracy: 0.5958\n",
      "Epoch 33/35\n",
      "898/898 [==============================] - 557s 620ms/step - loss: 1.0733 - accuracy: 0.7367 - val_loss: 1.5380 - val_accuracy: 0.5956\n",
      "Epoch 34/35\n",
      "898/898 [==============================] - 556s 619ms/step - loss: 1.0709 - accuracy: 0.7373 - val_loss: 1.4427 - val_accuracy: 0.6113\n",
      "Epoch 35/35\n",
      "898/898 [==============================] - 556s 619ms/step - loss: 1.0531 - accuracy: 0.7403 - val_loss: 1.4764 - val_accuracy: 0.6115\n"
     ]
    },
    {
     "data": {
      "text/plain": [
       "<keras.callbacks.History at 0x1d180f18048>"
      ]
     },
     "execution_count": 44,
     "metadata": {},
     "output_type": "execute_result"
    }
   ],
   "source": [
    "final_model.fit(x_train,y_train,epochs = 35 , validation_data = (x_val, y_val))"
   ]
  },
  {
   "cell_type": "code",
   "execution_count": 45,
   "id": "fc3a583d",
   "metadata": {},
   "outputs": [],
   "source": [
    "final_model.save(\"final_model.h5\")"
   ]
  },
  {
   "cell_type": "code",
   "execution_count": null,
   "id": "67a3277c",
   "metadata": {},
   "outputs": [],
   "source": []
  }
 ],
 "metadata": {
  "kernelspec": {
   "display_name": "mlenv",
   "language": "python",
   "name": "mlenv"
  },
  "language_info": {
   "codemirror_mode": {
    "name": "ipython",
    "version": 3
   },
   "file_extension": ".py",
   "mimetype": "text/x-python",
   "name": "python",
   "nbconvert_exporter": "python",
   "pygments_lexer": "ipython3",
   "version": "3.7.10"
  }
 },
 "nbformat": 4,
 "nbformat_minor": 5
}
